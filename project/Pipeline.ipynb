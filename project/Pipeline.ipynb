{
 "metadata": {
  "name": "",
  "signature": "sha256:6249b980198570790aab548421d6de7d964201a307a00232ec9c6472d3df850a"
 },
 "nbformat": 3,
 "nbformat_minor": 0,
 "worksheets": [
  {
   "cells": [
    {
     "cell_type": "code",
     "collapsed": false,
     "input": [
      "from IPython.display import HTML\n",
      "from collections import defaultdict"
     ],
     "language": "python",
     "metadata": {},
     "outputs": [],
     "prompt_number": 1
    },
    {
     "cell_type": "markdown",
     "metadata": {},
     "source": [
      "# Pipeline\n",
      "\n",
      "**Train:** Local search for german'\n",
      "\n",
      "**Test:** Parse with some preference matrix"
     ]
    },
    {
     "cell_type": "code",
     "collapsed": false,
     "input": [
      "root = \"../project2_data/training/\"\n",
      "nlen = list(open(root+\"p2_training_symal.nlen\", 'r'))\n",
      "en = list(open(root+\"p2_training.en\", 'r'))\n",
      "nl = list(open(root+\"p2_training.nl\", 'r'))\n",
      "def tuples(s):\n",
      "    return [[int(n) for n in a.split('-')] for a in s.split()]\n",
      "def align(s):\n",
      "    al = defaultdict(list)\n",
      "    for a in tuples(s):\n",
      "        al[a[0]].append(a[1])\n",
      "    return al\n",
      "def tupal(al):\n",
      "    return [[k,v] for k,vs in al.items() for v in vs]"
     ],
     "language": "python",
     "metadata": {},
     "outputs": [],
     "prompt_number": 2
    },
    {
     "cell_type": "code",
     "collapsed": false,
     "input": [
      "from alignmentviz import alignment\n",
      "n = 4\n",
      "HTML(alignment(en[n][:-1], nl[n][:-1], tuples(nlen[n])))"
     ],
     "language": "python",
     "metadata": {},
     "outputs": [
      {
       "html": [
        "\n",
        "    <svg id=\"svg-0x22f1c155a95fc9da\" xmlns=\"http://www.w3.org/2000/svg\" xmlns:xlink=\"http://www.w3.org/1999/xlink\" width=\"100%\" height=\"50\"></svg>\n",
        "    <script type=\"text/javascript\">\n",
        "    var e = \"we must also ensure increased strictness both in issuing sea-worthiness certificates and in monitoring the condition and the maintenance of vessels .\", f = \"verder moet er een strenger beleid komen voor het afleveren van zeewaardigheidsattesten en moet er beter toezicht worden gehouden op de staat en het onderhoud van schepen .\", a = [[2, 0], [1, 1], [0, 2], [3, 4], [7, 7], [11, 8], [11, 9], [11, 10], [12, 11], [10, 12], [16, 13], [18, 13], [19, 13], [20, 14], [21, 15], [22, 16], [23, 17], [24, 18], [25, 19], [26, 20], [27, 21]];\n",
        "    var svgNS = \"http://www.w3.org/2000/svg\";\n",
        "    var svg = document.getElementById(\"svg-0x22f1c155a95fc9da\");\n",
        "    function svgSet(obj, dictionary) {\n",
        "        for (var key in dictionary) {\n",
        "            if (dictionary.hasOwnProperty(key)) {\n",
        "                obj.setAttributeNS(null,key, dictionary[key]);\n",
        "            }\n",
        "        }\n",
        "        return obj;\n",
        "    }\n",
        "    var h = 50;\n",
        "    var sentence = function(top, words) {\n",
        "        words = words.split(' ');\n",
        "        var t = svgSet(document.createElementNS(svgNS,\"text\"), {\n",
        "            \"x\": 0,\n",
        "            \"y\": top,\n",
        "            \"text-anchor\": \"start\",\n",
        "            \"style\": \"font-size:10px; font-family: Arial;\"\n",
        "        });\n",
        "        svg.appendChild(t);\n",
        "        var tempText = \"\", tempWidth = 0, widths = [];\n",
        "        for (var i=0; i<words.length; i++) {\n",
        "          t.textContent = tempText += \" \" + words[i];\n",
        "          widths.push(tempWidth + (t.getBBox().width-tempWidth)/2);\n",
        "          tempWidth = t.getBBox().width;\n",
        "        }\n",
        "        return widths;\n",
        "    };\n",
        "    var t = 10, b = h-10;\n",
        "    ew = sentence(t, e);\n",
        "    fw = sentence(b, f);\n",
        "    a.forEach(function(al) {\n",
        "        svg.appendChild(\n",
        "            svgSet(document.createElementNS(svgNS,\"path\"), {\n",
        "                \"fill\": \"none\",\n",
        "                \"stroke\": \"#ff0000\",\n",
        "                \"d\": \"M\"+ew[al[1]]+\",\"+(t + 5)+\"L\"+fw[al[0]]+\",\"+(b - 5)+\"\"\n",
        "            }));\n",
        "    });\n",
        "    </script>\n",
        "    "
       ],
       "metadata": {},
       "output_type": "pyout",
       "prompt_number": 26,
       "text": [
        "<IPython.core.display.HTML at 0x10c53d2d0>"
       ]
      }
     ],
     "prompt_number": 26
    },
    {
     "cell_type": "markdown",
     "metadata": {},
     "source": [
      "# Permutation neighbourhood grammar\n",
      "$$\n",
      "S \\rightarrow S_{0,n} \\\\\n",
      "S_{i,k} \\rightarrow S_{i,j} S_{j,k}\\\\\n",
      "S_{i-1,i} \\rightarrow \\pi_i\n",
      "$$\n",
      "A grammar for a large neighborhood of permutations, given one permutation $\\pi$ of length $n$. The $S_{i,k}$ rules are instantiated for each $0 \\leq i < j < k \\leq n$, and the $S_{i-1,i}$ rules for each $0 < i \\leq n$."
     ]
    },
    {
     "cell_type": "code",
     "collapsed": false,
     "input": [
      "from localSearch import localSearch, traverseBackpointers, get_german_prime\n",
      "from B import B\n",
      "# testing local search\n",
      "sent = \"This is some really long stupid string with even more seemingly absurd contructions to see if the algorithm will take longer\"# 'beta alpha gamma zeta crap'.split()\n",
      "for _ in range(5):\n",
      "    b = B().initAlphabetically(sent)\n",
      "    delta, bp = localSearch(b, sent)\n",
      "    sent = ''.join(traverseBackpointers(sent, delta, bp, 0, len(sent)))\n",
      "    print sent"
     ],
     "language": "python",
     "metadata": {},
     "outputs": [
      {
       "output_type": "stream",
       "stream": "stdout",
       "text": [
        "[' ', ' ', ' ', ' ', ' ', ' ', ' ', ' ', ' ', ' ', ' ', ' ', ' ', ' ', ' ', ' ', ' ', ' ', ' ', ' ', 'T', 'a', 'a', 'a', 'a', 'b', 'c', 'c', 'd', 'd', 'e', 'e', 'e', 'e', 'e', 'e', 'e', 'e', 'e', 'e', 'e', 'e', 'f', 'g', 'g', 'g', 'g', 'g', 'h', 'h', 'h', 'h', 'i', 'i', 'i', 'i', 'i', 'i', 'i', 'i', 'i', 'i', 'k', 'l', 'l', 'l', 'l', 'l', 'l', 'l', 'l', 'm', 'm', 'm', 'm', 'n', 'n', 'n', 'n', 'n', 'n', 'n', 'o', 'o', 'o', 'o', 'o', 'o', 'o', 'o', 'p', 'r', 'r', 'r', 'r', 'r', 'r', 'r', 's', 's', 's', 's', 's', 's', 's', 's', 's', 't', 't', 't', 't', 't', 't', 't', 't', 't', 'u', 'u', 'u', 'v', 'w', 'w', 'y', 'y']\n",
        "Thi i  eae  g dii gi ehe  eeeig ab cdc  eg ea    eefi aehglhmiorttillwtklnosotinostnortursulynmsmornrvtwnrstpstulnollyrmosss"
       ]
      },
      {
       "output_type": "stream",
       "stream": "stdout",
       "text": [
        "\n",
        "[' ', ' ', ' ', ' ', ' ', ' ', ' ', ' ', ' ', ' ', ' ', ' ', ' ', ' ', ' ', ' ', ' ', ' ', ' ', ' ', 'T', 'a', 'a', 'a', 'a', 'b', 'c', 'c', 'd', 'd', 'e', 'e', 'e', 'e', 'e', 'e', 'e', 'e', 'e', 'e', 'e', 'e', 'f', 'g', 'g', 'g', 'g', 'g', 'h', 'h', 'h', 'h', 'i', 'i', 'i', 'i', 'i', 'i', 'i', 'i', 'i', 'i', 'k', 'l', 'l', 'l', 'l', 'l', 'l', 'l', 'l', 'm', 'm', 'm', 'm', 'n', 'n', 'n', 'n', 'n', 'n', 'n', 'o', 'o', 'o', 'o', 'o', 'o', 'o', 'o', 'p', 'r', 'r', 'r', 'r', 'r', 'r', 'r', 's', 's', 's', 's', 's', 's', 's', 's', 's', 't', 't', 't', 't', 't', 't', 't', 't', 't', 'u', 'u', 'u', 'v', 'w', 'w', 'y', 'y']\n",
        "T   a      a       a    abccdegeeeeeegieehfiegidiigeeghihihlimoillklmolllnonooinonorrlmnmnorrsnrpsstttvwysutusttsuryssstwrtt"
       ]
      },
      {
       "output_type": "stream",
       "stream": "stdout",
       "text": [
        "\n",
        "[' ', ' ', ' ', ' ', ' ', ' ', ' ', ' ', ' ', ' ', ' ', ' ', ' ', ' ', ' ', ' ', ' ', ' ', ' ', ' ', 'T', 'a', 'a', 'a', 'a', 'b', 'c', 'c', 'd', 'd', 'e', 'e', 'e', 'e', 'e', 'e', 'e', 'e', 'e', 'e', 'e', 'e', 'f', 'g', 'g', 'g', 'g', 'g', 'h', 'h', 'h', 'h', 'i', 'i', 'i', 'i', 'i', 'i', 'i', 'i', 'i', 'i', 'k', 'l', 'l', 'l', 'l', 'l', 'l', 'l', 'l', 'm', 'm', 'm', 'm', 'n', 'n', 'n', 'n', 'n', 'n', 'n', 'o', 'o', 'o', 'o', 'o', 'o', 'o', 'o', 'p', 'r', 'r', 'r', 'r', 'r', 'r', 'r', 's', 's', 's', 's', 's', 's', 's', 's', 's', 't', 't', 't', 't', 't', 't', 't', 't', 't', 'u', 'u', 'u', 'v', 'w', 'w', 'y', 'y']\n",
        "                    Taaaabccdeedeeeeeeeeeefhgigigigiighhhiiilmiklllmllllmmnnninnnooooorrooonprrrsssrttssstrsstttttstuuvwyuyw"
       ]
      },
      {
       "output_type": "stream",
       "stream": "stdout",
       "text": [
        "\n",
        "[' ', ' ', ' ', ' ', ' ', ' ', ' ', ' ', ' ', ' ', ' ', ' ', ' ', ' ', ' ', ' ', ' ', ' ', ' ', ' ', 'T', 'a', 'a', 'a', 'a', 'b', 'c', 'c', 'd', 'd', 'e', 'e', 'e', 'e', 'e', 'e', 'e', 'e', 'e', 'e', 'e', 'e', 'f', 'g', 'g', 'g', 'g', 'g', 'h', 'h', 'h', 'h', 'i', 'i', 'i', 'i', 'i', 'i', 'i', 'i', 'i', 'i', 'k', 'l', 'l', 'l', 'l', 'l', 'l', 'l', 'l', 'm', 'm', 'm', 'm', 'n', 'n', 'n', 'n', 'n', 'n', 'n', 'o', 'o', 'o', 'o', 'o', 'o', 'o', 'o', 'p', 'r', 'r', 'r', 'r', 'r', 'r', 'r', 's', 's', 's', 's', 's', 's', 's', 's', 's', 't', 't', 't', 't', 't', 't', 't', 't', 't', 'u', 'u', 'u', 'v', 'w', 'w', 'y', 'y']\n",
        "                    Taaaabccddeeeeeeeeeeeefghgggghhhiiiiiiiiiiklllllllmlmmmnnnnnnnoooooooorrprrrrsssrssssststtttttttuuuvwywy"
       ]
      },
      {
       "output_type": "stream",
       "stream": "stdout",
       "text": [
        "\n",
        "[' ', ' ', ' ', ' ', ' ', ' ', ' ', ' ', ' ', ' ', ' ', ' ', ' ', ' ', ' ', ' ', ' ', ' ', ' ', ' ', 'T', 'a', 'a', 'a', 'a', 'b', 'c', 'c', 'd', 'd', 'e', 'e', 'e', 'e', 'e', 'e', 'e', 'e', 'e', 'e', 'e', 'e', 'f', 'g', 'g', 'g', 'g', 'g', 'h', 'h', 'h', 'h', 'i', 'i', 'i', 'i', 'i', 'i', 'i', 'i', 'i', 'i', 'k', 'l', 'l', 'l', 'l', 'l', 'l', 'l', 'l', 'm', 'm', 'm', 'm', 'n', 'n', 'n', 'n', 'n', 'n', 'n', 'o', 'o', 'o', 'o', 'o', 'o', 'o', 'o', 'p', 'r', 'r', 'r', 'r', 'r', 'r', 'r', 's', 's', 's', 's', 's', 's', 's', 's', 's', 't', 't', 't', 't', 't', 't', 't', 't', 't', 'u', 'u', 'u', 'v', 'w', 'w', 'y', 'y']\n",
        "                    Taaaabccddeeeeeeeeeeeefggggghhhhiiiiiiiiiikllllllllmmmmnnnnnnnooooooooprrrrrrrssssssssstttttttttuuuvwwyy"
       ]
      },
      {
       "output_type": "stream",
       "stream": "stdout",
       "text": [
        "\n"
       ]
      }
     ],
     "prompt_number": 29
    },
    {
     "cell_type": "code",
     "collapsed": false,
     "input": [
      "from pylab import *\n",
      "\n",
      "s = nl[n].split()\n",
      "print ' '.join(get_german_prime(s, align(nlen[n])))\n",
      "\n",
      "s_ind = range(len(s))\n",
      "print s_ind\n",
      "sp_ind = get_german_prime(s_ind, align(nlen[n]))\n",
      "print sp_ind\n",
      "\n",
      "prime = array([[s>sp for sp in sp_ind] for s in s_ind])\n",
      "const = array([[s>s2 for s2 in s_ind] for s in s_ind])\n",
      "error = prime - const\n",
      "\n",
      "pcolor(error)\n",
      "show()"
     ],
     "language": "python",
     "metadata": {},
     "outputs": [
      {
       "output_type": "stream",
       "stream": "stdout",
       "text": [
        "er strenger beleid komen het afleveren moet er beter worden moet verder een voor zeewaardigheidsattesten en van toezicht gehouden op de staat en het onderhoud van schepen .\n",
        "[0, 1, 2, 3, 4, 5, 6, 7, 8, 9, 10, 11, 12, 13, 14, 15, 16, 17, 18, 19, 20, 21, 22, 23, 24, 25, 26, 27]\n",
        "[2, 4, 5, 6, 8, 9, 13, 14, 15, 17, 1, 0, 3, 7, 11, 12, 10, 16, 18, 19, 20, 21, 22, 23, 24, 25, 26, 27]\n"
       ]
      },
      {
       "metadata": {},
       "output_type": "display_data",
       "png": "[encoded data removed]",
       "text": [
        "<matplotlib.figure.Figure at 0x109659710>"
       ]
      }
     ],
     "prompt_number": 52
    },
    {
     "cell_type": "markdown",
     "metadata": {},
     "source": [
      "# Word vectors"
     ]
    },
    {
     "cell_type": "code",
     "collapsed": false,
     "input": [
      "import gensim\n",
      "corpus = [s.split() for s in nl]\n",
      "model = gensim.models.word2vec.Word2Vec(size=300, min_count=1, sg=0)\n",
      "model.build_vocab(corpus*2)\n",
      "model.train(corpus*2)"
     ],
     "language": "python",
     "metadata": {},
     "outputs": [
      {
       "ename": "ImportError",
       "evalue": "No module named gensim",
       "output_type": "pyerr",
       "traceback": [
        "\u001b[0;31m---------------------------------------------------------------------------\u001b[0m\n\u001b[0;31mImportError\u001b[0m                               Traceback (most recent call last)",
        "\u001b[0;32m<ipython-input-9-bc50f00886a8>\u001b[0m in \u001b[0;36m<module>\u001b[0;34m()\u001b[0m\n\u001b[0;32m----> 1\u001b[0;31m \u001b[0;32mimport\u001b[0m \u001b[0mgensim\u001b[0m\u001b[0;34m\u001b[0m\u001b[0m\n\u001b[0m\u001b[1;32m      2\u001b[0m \u001b[0mcorpus\u001b[0m \u001b[0;34m=\u001b[0m \u001b[0;34m[\u001b[0m\u001b[0ms\u001b[0m\u001b[0;34m.\u001b[0m\u001b[0msplit\u001b[0m\u001b[0;34m(\u001b[0m\u001b[0;34m)\u001b[0m \u001b[0;32mfor\u001b[0m \u001b[0ms\u001b[0m \u001b[0;32min\u001b[0m \u001b[0mnl\u001b[0m\u001b[0;34m]\u001b[0m\u001b[0;34m\u001b[0m\u001b[0m\n\u001b[1;32m      3\u001b[0m \u001b[0mmodel\u001b[0m \u001b[0;34m=\u001b[0m \u001b[0mgensim\u001b[0m\u001b[0;34m.\u001b[0m\u001b[0mmodels\u001b[0m\u001b[0;34m.\u001b[0m\u001b[0mword2vec\u001b[0m\u001b[0;34m.\u001b[0m\u001b[0mWord2Vec\u001b[0m\u001b[0;34m(\u001b[0m\u001b[0msize\u001b[0m\u001b[0;34m=\u001b[0m\u001b[0;36m300\u001b[0m\u001b[0;34m,\u001b[0m \u001b[0mmin_count\u001b[0m\u001b[0;34m=\u001b[0m\u001b[0;36m1\u001b[0m\u001b[0;34m,\u001b[0m \u001b[0msg\u001b[0m\u001b[0;34m=\u001b[0m\u001b[0;36m0\u001b[0m\u001b[0;34m)\u001b[0m\u001b[0;34m\u001b[0m\u001b[0m\n\u001b[1;32m      4\u001b[0m \u001b[0mmodel\u001b[0m\u001b[0;34m.\u001b[0m\u001b[0mbuild_vocab\u001b[0m\u001b[0;34m(\u001b[0m\u001b[0mcorpus\u001b[0m\u001b[0;34m*\u001b[0m\u001b[0;36m2\u001b[0m\u001b[0;34m)\u001b[0m\u001b[0;34m\u001b[0m\u001b[0m\n\u001b[1;32m      5\u001b[0m \u001b[0mmodel\u001b[0m\u001b[0;34m.\u001b[0m\u001b[0mtrain\u001b[0m\u001b[0;34m(\u001b[0m\u001b[0mcorpus\u001b[0m\u001b[0;34m*\u001b[0m\u001b[0;36m2\u001b[0m\u001b[0;34m)\u001b[0m\u001b[0;34m\u001b[0m\u001b[0m\n",
        "\u001b[0;31mImportError\u001b[0m: No module named gensim"
       ]
      }
     ],
     "prompt_number": 9
    },
    {
     "cell_type": "code",
     "collapsed": false,
     "input": [
      "from numpy import dot, sum as np_sum\n",
      "\n",
      "def sim(a,b):\n",
      "    return dot(gensim.matutils.unitvec(a), gensim.matutils.unitvec(b))\n",
      "\n",
      "class cosinePreference:\n",
      "    def __init__(self, model, sentence):\n",
      "        self.model = model\n",
      "        vecs = [model[w] for w in sentence if w in model]\n",
      "        # average sentence vector\n",
      "        self.avg = np_sum(vecs,axis=0) / len(vecs)\n",
      "    def get(self, left, right):\n",
      "        # difference between distance between average and left or right word\n",
      "        if left in self.model and right in self.model:\n",
      "            return dot(self.model[left], self.avg) - dot(self.model[right], self.avg)\n",
      "        else:\n",
      "            return 0\n",
      "        \n",
      "sent = nl[4].split()\n",
      "for i in range(3):\n",
      "    b = cosinePreference(model, sent)\n",
      "    delta, bp = localSearch(b, sent)\n",
      "    sent = traverseBackpointers(sent, delta, bp, 0, len(sent))\n",
      "    print i, ' '.join(sent)"
     ],
     "language": "python",
     "metadata": {},
     "outputs": [
      {
       "output_type": "stream",
       "stream": "stdout",
       "text": [
        "0 . het en een er moet het voor en op worden er moet beter toezicht gehouden van zeewaardigheidsattesten afleveren beleid komen staat de strenger van schepen onderhoud verder\n",
        "1 en het het en een . er moet voor worden er moet op beter van gehouden beleid van schepen komen staat strenger de zeewaardigheidsattesten afleveren toezicht verder onderhoud\n",
        "2"
       ]
      },
      {
       "output_type": "stream",
       "stream": "stdout",
       "text": [
        " het het en en worden een . er moet voor er moet op beleid van beter van gehouden schepen komen staat toezicht verder onderhoud strenger de zeewaardigheidsattesten afleveren\n"
       ]
      }
     ],
     "prompt_number": 50
    },
    {
     "cell_type": "code",
     "collapsed": false,
     "input": [
      "def features(model, sent, left, right):\n",
      "    def get(i):\n",
      "        if i>=0 and i<len(sent):\n",
      "            return model[sent[i]]\n",
      "        else:\n",
      "            return zeros(model.layer1_size)\n",
      "    conc = [get(i) for i in [left - 1, left, left + 1] ]\n",
      "    conc += [np_sum([get(i) for i in [-1]+range(left+1,right-1)],axis=0)]\n",
      "    conc += [get(i) for i in [right - 1, right, right + 1] ]\n",
      "    return concatenate(conc)\n",
      "\n",
      "class perceptronPreference:\n",
      "    def __init__(self, model, sentence):\n",
      "        vecs = [model[w] for w in sentence if w in model]\n",
      "    def get(self, left, right):\n",
      "        \"\"\" `left` and `right` are indices\"\"\"\n",
      "        return 0\n",
      "\n",
      "\n",
      "shape(features(model, sent, 2, 5))"
     ],
     "language": "python",
     "metadata": {},
     "outputs": [
      {
       "metadata": {},
       "output_type": "pyout",
       "prompt_number": 94,
       "text": [
        "(2100,)"
       ]
      }
     ],
     "prompt_number": 94
    },
    {
     "cell_type": "code",
     "collapsed": false,
     "input": [],
     "language": "python",
     "metadata": {},
     "outputs": [
      {
       "metadata": {},
       "output_type": "pyout",
       "prompt_number": 93,
       "text": [
        "True"
       ]
      }
     ],
     "prompt_number": 93
    },
    {
     "cell_type": "code",
     "collapsed": false,
     "input": [],
     "language": "python",
     "metadata": {},
     "outputs": []
    }
   ],
   "metadata": {}
  }
 ]
}