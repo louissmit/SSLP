{
 "metadata": {
  "name": "",
  "signature": "sha256:b649fb31888eae2110ddd72d0bf22f830926a12f450610e833d5b671eae2612f"
 },
 "nbformat": 3,
 "nbformat_minor": 0,
 "worksheets": [
  {
   "cells": [
    {
     "cell_type": "code",
     "collapsed": false,
     "input": [
      "from IPython.display import HTML\n",
      "from collections import defaultdict\n",
      "\n",
      "from alignmentviz import alignment\n",
      "from localSearch import localSearch, traverseBackpointers, get_german_prime\n",
      "from B import B"
     ],
     "language": "python",
     "metadata": {},
     "outputs": [],
     "prompt_number": 7
    },
    {
     "cell_type": "markdown",
     "metadata": {},
     "source": [
      "# Pipeline\n",
      "\n",
      "**Train:** Local search for german'\n",
      "\n",
      "**Test:** Parse with some preference matrix"
     ]
    },
    {
     "cell_type": "code",
     "collapsed": false,
     "input": [
      "root = \"../project2_data/training/\"\n",
      "nlen = list(open(root+\"p2_training_symal.nlen\", 'r'))\n",
      "en = list(open(root+\"p2_training.en\", 'r'))\n",
      "nl = list(open(root+\"p2_training.nl\", 'r'))\n",
      "def tuples(s):\n",
      "    return [[int(n) for n in a.split('-')] for a in s.split()]\n",
      "def align(s):\n",
      "    al = defaultdict(list)\n",
      "    for a in tuples(s):\n",
      "        al[a[0]].append(a[1])\n",
      "    return al\n",
      "def tupal(al):\n",
      "    return [[k,v] for k,vs in al.items() for v in vs]"
     ],
     "language": "python",
     "metadata": {},
     "outputs": [],
     "prompt_number": 3
    },
    {
     "cell_type": "code",
     "collapsed": false,
     "input": [
      "n = 4\n",
      "HTML(alignment(en[n][:-1], nl[n][:-1], tuples(nlen[n])))"
     ],
     "language": "python",
     "metadata": {},
     "outputs": [
      {
       "html": [
        "\n",
        "    <svg id=\"svg-0x22f1c155a95fc9da\" xmlns=\"http://www.w3.org/2000/svg\" xmlns:xlink=\"http://www.w3.org/1999/xlink\" width=\"100%\" height=\"50\"></svg>\n",
        "    <script type=\"text/javascript\">\n",
        "    var e = \"we must also ensure increased strictness both in issuing sea-worthiness certificates and in monitoring the condition and the maintenance of vessels .\", f = \"verder moet er een strenger beleid komen voor het afleveren van zeewaardigheidsattesten en moet er beter toezicht worden gehouden op de staat en het onderhoud van schepen .\", a = [[2, 0], [1, 1], [0, 2], [3, 4], [7, 7], [11, 8], [11, 9], [11, 10], [12, 11], [10, 12], [16, 13], [18, 13], [19, 13], [20, 14], [21, 15], [22, 16], [23, 17], [24, 18], [25, 19], [26, 20], [27, 21]];\n",
        "    var svgNS = \"http://www.w3.org/2000/svg\";\n",
        "    var svg = document.getElementById(\"svg-0x22f1c155a95fc9da\");\n",
        "    function svgSet(obj, dictionary) {\n",
        "        for (var key in dictionary) {\n",
        "            if (dictionary.hasOwnProperty(key)) {\n",
        "                obj.setAttributeNS(null,key, dictionary[key]);\n",
        "            }\n",
        "        }\n",
        "        return obj;\n",
        "    }\n",
        "    var h = 50;\n",
        "    var sentence = function(top, words) {\n",
        "        words = words.split(' ');\n",
        "        var t = svgSet(document.createElementNS(svgNS,\"text\"), {\n",
        "            \"x\": 0,\n",
        "            \"y\": top,\n",
        "            \"text-anchor\": \"start\",\n",
        "            \"style\": \"font-size:10px; font-family: Arial;\"\n",
        "        });\n",
        "        svg.appendChild(t);\n",
        "        var tempText = \"\", tempWidth = 0, widths = [];\n",
        "        for (var i=0; i<words.length; i++) {\n",
        "          t.textContent = tempText += \" \" + words[i];\n",
        "          widths.push(tempWidth + (t.getBBox().width-tempWidth)/2);\n",
        "          tempWidth = t.getBBox().width;\n",
        "        }\n",
        "        return widths;\n",
        "    };\n",
        "    var t = 10, b = h-10;\n",
        "    ew = sentence(t, e);\n",
        "    fw = sentence(b, f);\n",
        "    a.forEach(function(al) {\n",
        "        svg.appendChild(\n",
        "            svgSet(document.createElementNS(svgNS,\"path\"), {\n",
        "                \"fill\": \"none\",\n",
        "                \"stroke\": \"#ff0000\",\n",
        "                \"d\": \"M\"+ew[al[1]]+\",\"+(t + 5)+\"L\"+fw[al[0]]+\",\"+(b - 5)+\"\"\n",
        "            }));\n",
        "    });\n",
        "    </script>\n",
        "    "
       ],
       "metadata": {},
       "output_type": "pyout",
       "prompt_number": 4,
       "text": [
        "<IPython.core.display.HTML at 0x10541a610>"
       ]
      }
     ],
     "prompt_number": 4
    },
    {
     "cell_type": "code",
     "collapsed": false,
     "input": [
      "# testing local search\n",
      "sent = \"This is some really long stupid string with even more seemingly absurd contructions to see if the algorithm will take longer\"# 'beta alpha gamma zeta crap'.split()\n",
      "for _ in range(4):\n",
      "    b = B().initAlphabetically(sent)\n",
      "    delta, bp = localSearch(b, sent)\n",
      "    sent = ''.join(traverseBackpointers(sent, delta, bp, 0, len(sent)))\n",
      "    print sent"
     ],
     "language": "python",
     "metadata": {},
     "outputs": [
      {
       "output_type": "stream",
       "stream": "stdout",
       "text": [
        "[' ', ' ', ' ', ' ', ' ', ' ', ' ', ' ', ' ', ' ', ' ', ' ', ' ', ' ', ' ', ' ', ' ', ' ', ' ', ' ', 'T', 'a', 'a', 'a', 'a', 'b', 'c', 'c', 'd', 'd', 'e', 'e', 'e', 'e', 'e', 'e', 'e', 'e', 'e', 'e', 'e', 'e', 'f', 'g', 'g', 'g', 'g', 'g', 'h', 'h', 'h', 'h', 'i', 'i', 'i', 'i', 'i', 'i', 'i', 'i', 'i', 'i', 'k', 'l', 'l', 'l', 'l', 'l', 'l', 'l', 'l', 'm', 'm', 'm', 'm', 'n', 'n', 'n', 'n', 'n', 'n', 'n', 'o', 'o', 'o', 'o', 'o', 'o', 'o', 'o', 'p', 'r', 'r', 'r', 'r', 'r', 'r', 'r', 's', 's', 's', 's', 's', 's', 's', 's', 's', 't', 't', 't', 't', 't', 't', 't', 't', 't', 'u', 'u', 'u', 'v', 'w', 'w', 'y', 'y']\n",
        "Thi i  eae  g dii gi ehe  eeeig ab cdc  eg ea    eefi aehglhmiorttillwtklnosotinostnortursulynmsmornrvtwnrstpstulnollyrmosss"
       ]
      },
      {
       "output_type": "stream",
       "stream": "stdout",
       "text": [
        "\n",
        "[' ', ' ', ' ', ' ', ' ', ' ', ' ', ' ', ' ', ' ', ' ', ' ', ' ', ' ', ' ', ' ', ' ', ' ', ' ', ' ', 'T', 'a', 'a', 'a', 'a', 'b', 'c', 'c', 'd', 'd', 'e', 'e', 'e', 'e', 'e', 'e', 'e', 'e', 'e', 'e', 'e', 'e', 'f', 'g', 'g', 'g', 'g', 'g', 'h', 'h', 'h', 'h', 'i', 'i', 'i', 'i', 'i', 'i', 'i', 'i', 'i', 'i', 'k', 'l', 'l', 'l', 'l', 'l', 'l', 'l', 'l', 'm', 'm', 'm', 'm', 'n', 'n', 'n', 'n', 'n', 'n', 'n', 'o', 'o', 'o', 'o', 'o', 'o', 'o', 'o', 'p', 'r', 'r', 'r', 'r', 'r', 'r', 'r', 's', 's', 's', 's', 's', 's', 's', 's', 's', 't', 't', 't', 't', 't', 't', 't', 't', 't', 'u', 'u', 'u', 'v', 'w', 'w', 'y', 'y']\n",
        "T   a      a       a    abccdegeeeeeegieehfiegidiigeeghihihlimoillklmolllnonooinonorrlmnmnorrsnrpsstttvwysutusttsuryssstwrtt"
       ]
      },
      {
       "output_type": "stream",
       "stream": "stdout",
       "text": [
        "\n",
        "[' ', ' ', ' ', ' ', ' ', ' ', ' ', ' ', ' ', ' ', ' ', ' ', ' ', ' ', ' ', ' ', ' ', ' ', ' ', ' ', 'T', 'a', 'a', 'a', 'a', 'b', 'c', 'c', 'd', 'd', 'e', 'e', 'e', 'e', 'e', 'e', 'e', 'e', 'e', 'e', 'e', 'e', 'f', 'g', 'g', 'g', 'g', 'g', 'h', 'h', 'h', 'h', 'i', 'i', 'i', 'i', 'i', 'i', 'i', 'i', 'i', 'i', 'k', 'l', 'l', 'l', 'l', 'l', 'l', 'l', 'l', 'm', 'm', 'm', 'm', 'n', 'n', 'n', 'n', 'n', 'n', 'n', 'o', 'o', 'o', 'o', 'o', 'o', 'o', 'o', 'p', 'r', 'r', 'r', 'r', 'r', 'r', 'r', 's', 's', 's', 's', 's', 's', 's', 's', 's', 't', 't', 't', 't', 't', 't', 't', 't', 't', 'u', 'u', 'u', 'v', 'w', 'w', 'y', 'y']\n",
        "                    Taaaabccdeedeeeeeeeeeefhgigigigiighhhiiilmiklllmllllmmnnninnnooooorrooonprrrsssrttssstrsstttttstuuvwyuyw"
       ]
      },
      {
       "output_type": "stream",
       "stream": "stdout",
       "text": [
        "\n",
        "[' ', ' ', ' ', ' ', ' ', ' ', ' ', ' ', ' ', ' ', ' ', ' ', ' ', ' ', ' ', ' ', ' ', ' ', ' ', ' ', 'T', 'a', 'a', 'a', 'a', 'b', 'c', 'c', 'd', 'd', 'e', 'e', 'e', 'e', 'e', 'e', 'e', 'e', 'e', 'e', 'e', 'e', 'f', 'g', 'g', 'g', 'g', 'g', 'h', 'h', 'h', 'h', 'i', 'i', 'i', 'i', 'i', 'i', 'i', 'i', 'i', 'i', 'k', 'l', 'l', 'l', 'l', 'l', 'l', 'l', 'l', 'm', 'm', 'm', 'm', 'n', 'n', 'n', 'n', 'n', 'n', 'n', 'o', 'o', 'o', 'o', 'o', 'o', 'o', 'o', 'p', 'r', 'r', 'r', 'r', 'r', 'r', 'r', 's', 's', 's', 's', 's', 's', 's', 's', 's', 't', 't', 't', 't', 't', 't', 't', 't', 't', 'u', 'u', 'u', 'v', 'w', 'w', 'y', 'y']\n",
        "                    Taaaabccddeeeeeeeeeeeefghgggghhhiiiiiiiiiiklllllllmlmmmnnnnnnnoooooooorrprrrrsssrssssststtttttttuuuvwywy"
       ]
      },
      {
       "output_type": "stream",
       "stream": "stdout",
       "text": [
        "\n"
       ]
      }
     ],
     "prompt_number": 20
    },
    {
     "cell_type": "code",
     "collapsed": false,
     "input": [
      "' '.join(get_german_prime(nl[n].split(), align(nlen[n])))"
     ],
     "language": "python",
     "metadata": {},
     "outputs": [
      {
       "metadata": {},
       "output_type": "pyout",
       "prompt_number": 71,
       "text": [
        "'er strenger beleid komen het afleveren moet er beter worden moet verder een voor zeewaardigheidsattesten en van toezicht gehouden op de staat en het onderhoud van schepen .'"
       ]
      }
     ],
     "prompt_number": 71
    },
    {
     "cell_type": "markdown",
     "metadata": {},
     "source": [
      "# Word vectors"
     ]
    },
    {
     "cell_type": "code",
     "collapsed": false,
     "input": [
      "import gensim\n",
      "corpus = [s.split() for s in nl]\n",
      "model = gensim.models.word2vec.Word2Vec(size=300, min_count=1, sg=0)\n",
      "model.build_vocab(corpus*2)\n",
      "model.train(corpus*2)"
     ],
     "language": "python",
     "metadata": {},
     "outputs": [
      {
       "metadata": {},
       "output_type": "pyout",
       "prompt_number": 22,
       "text": [
        "5347400"
       ]
      }
     ],
     "prompt_number": 22
    },
    {
     "cell_type": "code",
     "collapsed": false,
     "input": [
      "from numpy import dot, sum as np_sum\n",
      "\n",
      "def sim(a,b):\n",
      "    return dot(gensim.matutils.unitvec(a), gensim.matutils.unitvec(b))\n",
      "\n",
      "class cosinePreference:\n",
      "    def __init__(self, model, sentence):\n",
      "        self.model = model\n",
      "        vecs = [model[w] for w in sentence if w in model]\n",
      "        self.avg = np_sum(vecs,axis=0) / len(vecs)\n",
      "    def get(self, left, right):\n",
      "        if left in self.model and right in self.model:\n",
      "            return dot(self.model[left], self.avg) - dot(self.model[right], self.avg)\n",
      "        else:\n",
      "            return 0\n",
      "        \n",
      "sent = nl[4].split()\n",
      "for i in range(5):\n",
      "    b = cosinePreference(model, sent)\n",
      "    delta, bp = localSearch(b, sent)\n",
      "    sent = traverseBackpointers(sent, delta, bp, 0, len(sent))\n",
      "    print i, ' '.join(sent)\n"
     ],
     "language": "python",
     "metadata": {},
     "outputs": [
      {
       "output_type": "stream",
       "stream": "stdout",
       "text": [
        "0 . het en een er moet het voor en op worden er moet beter toezicht gehouden van zeewaardigheidsattesten afleveren beleid komen staat de strenger van schepen onderhoud verder\n",
        "1"
       ]
      },
      {
       "output_type": "stream",
       "stream": "stdout",
       "text": [
        " en het het en een . er moet voor worden er moet op beter van gehouden beleid van schepen komen staat strenger de zeewaardigheidsattesten afleveren toezicht verder onderhoud\n",
        "2"
       ]
      },
      {
       "output_type": "stream",
       "stream": "stdout",
       "text": [
        " het het en en worden een . er moet voor er moet op beleid van beter van gehouden schepen komen staat toezicht verder onderhoud strenger de zeewaardigheidsattesten afleveren\n",
        "3"
       ]
      },
      {
       "output_type": "stream",
       "stream": "stdout",
       "text": [
        " het het en en worden een . er er moet moet voor op beleid beter van van gehouden schepen komen staat toezicht verder strenger onderhoud de zeewaardigheidsattesten afleveren\n",
        "4 het het en en worden een . er er moet moet op voor beleid beter van van gehouden schepen komen staat toezicht verder strenger onderhoud de zeewaardigheidsattesten afleveren\n"
       ]
      }
     ],
     "prompt_number": 98
    },
    {
     "cell_type": "code",
     "collapsed": false,
     "input": [
      "from sklearn import datasets, metrics\n",
      "from sklearn.naive_bayes import GaussianNB"
     ],
     "language": "python",
     "metadata": {},
     "outputs": [],
     "prompt_number": 76
    },
    {
     "cell_type": "code",
     "collapsed": false,
     "input": [
      "\n"
     ],
     "language": "python",
     "metadata": {},
     "outputs": []
    }
   ],
   "metadata": {}
  }
 ]
}