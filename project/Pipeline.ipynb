{
 "metadata": {
  "name": "",
  "signature": "sha256:8921e75e7c4eb43b727be7cf43d65a1dfefc224731ea1f9c878c89324cbc93d7"
 },
 "nbformat": 3,
 "nbformat_minor": 0,
 "worksheets": [
  {
   "cells": [
    {
     "cell_type": "code",
     "collapsed": false,
     "input": [
      "from IPython.display import HTML\n",
      "from alignmentviz import alignment\n",
      "import random"
     ],
     "language": "python",
     "metadata": {},
     "outputs": [],
     "prompt_number": 1
    },
    {
     "cell_type": "code",
     "collapsed": false,
     "input": [
      "root = \"/Users/benno/Documents/SS/p2/project2_data/training/\"\n",
      "nlen = list(open(root+\"p2_training_symal.nlen\", 'r'))\n",
      "en = list(open(root+\"p2_training.en\", 'r'))\n",
      "nl = list(open(root+\"p2_training.nl\", 'r'))\n",
      "def align(s):\n",
      "    return map( lambda a: map(int, a.split('-')), s.split())"
     ],
     "language": "python",
     "metadata": {},
     "outputs": [],
     "prompt_number": 2
    },
    {
     "cell_type": "code",
     "collapsed": false,
     "input": [
      "n = 4\n",
      "HTML(alignment(en[n][:-1], nl[n][:-1], align(nlen[n])))"
     ],
     "language": "python",
     "metadata": {},
     "outputs": [
      {
       "html": [
        "\n",
        "    <svg id=\"svg-0x22f1c155a95fc9da\" xmlns=\"http://www.w3.org/2000/svg\" xmlns:xlink=\"http://www.w3.org/1999/xlink\" width=\"100%\" height=\"50\"></svg>\n",
        "    <script type=\"text/javascript\">\n",
        "    var e = \"we must also ensure increased strictness both in issuing sea-worthiness certificates and in monitoring the condition and the maintenance of vessels .\", f = \"verder moet er een strenger beleid komen voor het afleveren van zeewaardigheidsattesten en moet er beter toezicht worden gehouden op de staat en het onderhoud van schepen .\", a = [[2, 0], [1, 1], [0, 2], [3, 4], [7, 7], [11, 8], [11, 9], [11, 10], [12, 11], [10, 12], [16, 13], [18, 13], [19, 13], [20, 14], [21, 15], [22, 16], [23, 17], [24, 18], [25, 19], [26, 20], [27, 21]];\n",
        "    var svgNS = \"http://www.w3.org/2000/svg\";\n",
        "    var svg = document.getElementById(\"svg-0x22f1c155a95fc9da\");\n",
        "    function svgSet(obj, dictionary) {\n",
        "        for (var key in dictionary) {\n",
        "            if (dictionary.hasOwnProperty(key)) {\n",
        "                obj.setAttributeNS(null,key, dictionary[key]);\n",
        "            }\n",
        "        }\n",
        "        return obj;\n",
        "    }\n",
        "    var h = 50;\n",
        "    var sentence = function(top, words) {\n",
        "        words = words.split(' ');\n",
        "        var t = svgSet(document.createElementNS(svgNS,\"text\"), {\n",
        "            \"x\": 0,\n",
        "            \"y\": top,\n",
        "            \"text-anchor\": \"start\",\n",
        "            \"style\": \"font-size:10px; font-family: Arial;\"\n",
        "        });\n",
        "        svg.appendChild(t);\n",
        "        var tempText = \"\", tempWidth = 0, widths = [];\n",
        "        for (var i=0; i<words.length; i++) {\n",
        "          t.textContent = tempText += \" \" + words[i];\n",
        "          widths.push(tempWidth + (t.getBBox().width-tempWidth)/2);\n",
        "          tempWidth = t.getBBox().width;\n",
        "        }\n",
        "        return widths;\n",
        "    };\n",
        "    var t = 10, b = h-10;\n",
        "    ew = sentence(t, e);\n",
        "    fw = sentence(b, f);\n",
        "    a.forEach(function(al) {\n",
        "        svg.appendChild(\n",
        "            svgSet(document.createElementNS(svgNS,\"path\"), {\n",
        "                \"fill\": \"none\",\n",
        "                \"stroke\": \"#ff0000\",\n",
        "                \"d\": \"M\"+ew[al[1]]+\",\"+(t + 5)+\"L\"+fw[al[0]]+\",\"+(b - 5)+\"\"\n",
        "            }));\n",
        "    });\n",
        "    </script>\n",
        "    "
       ],
       "metadata": {},
       "output_type": "pyout",
       "prompt_number": 7,
       "text": [
        "<IPython.core.display.HTML at 0x10fe2a050>"
       ]
      }
     ],
     "prompt_number": 7
    },
    {
     "cell_type": "code",
     "collapsed": false,
     "input": [
      "n = 3\n",
      "HTML(alignment(en[n][:-1], nl[n][:-1], align(nlen[n])))"
     ],
     "language": "python",
     "metadata": {},
     "outputs": [
      {
       "html": [
        "\n",
        "    <svg id=\"svg-0x2a89a32447743fab\" xmlns=\"http://www.w3.org/2000/svg\" xmlns:xlink=\"http://www.w3.org/1999/xlink\" width=\"100%\" height=\"50\"></svg>\n",
        "    <script type=\"text/javascript\">\n",
        "    var e = \"in all these respects we must ensure real , significant change , including setting a time limit for the switch to new standards , including the mandatory double hull , on pain of being banned from the ports or the territorial waters of Member States .\", f = \"op al deze punten moeten er re\u00eble en significante veranderingen komen , met onder meer een duidelijke termijn voor de invoering van nieuwe voorschriften zoals een dubbele wand . niet-naleving van die voorschriften moet leiden tot een verbod om aan te meren in onze havens of zich in de territoriale wateren van de lidstaten te begeven .\", a = [[0, 0], [1, 1], [2, 2], [3, 3], [5, 4], [4, 5], [6, 7], [7, 8], [8, 9], [9, 10], [10, 10], [11, 11], [12, 12], [13, 12], [14, 13], [15, 14], [16, 16], [17, 16], [18, 17], [19, 18], [20, 19], [38, 20], [39, 20], [40, 20], [22, 21], [23, 22], [24, 24], [25, 25], [25, 26], [26, 27], [27, 28], [29, 28], [28, 29], [21, 30], [41, 31], [30, 32], [31, 33], [41, 34], [42, 35], [43, 36], [44, 37], [45, 38], [48, 39], [49, 40], [50, 41], [51, 42], [52, 43], [53, 44], [56, 45]];\n",
        "    var svgNS = \"http://www.w3.org/2000/svg\";\n",
        "    var svg = document.getElementById(\"svg-0x2a89a32447743fab\");\n",
        "    function svgSet(obj, dictionary) {\n",
        "        for (var key in dictionary) {\n",
        "            if (dictionary.hasOwnProperty(key)) {\n",
        "                obj.setAttributeNS(null,key, dictionary[key]);\n",
        "            }\n",
        "        }\n",
        "        return obj;\n",
        "    }\n",
        "    var h = 50;\n",
        "    var sentence = function(top, words) {\n",
        "        words = words.split(' ');\n",
        "        var t = svgSet(document.createElementNS(svgNS,\"text\"), {\n",
        "            \"x\": 0,\n",
        "            \"y\": top,\n",
        "            \"text-anchor\": \"start\",\n",
        "            \"style\": \"font-size:10px; font-family: Arial;\"\n",
        "        });\n",
        "        svg.appendChild(t);\n",
        "        var tempText = \"\", tempWidth = 0, widths = [];\n",
        "        for (var i=0; i<words.length; i++) {\n",
        "          t.textContent = tempText += \" \" + words[i];\n",
        "          widths.push(tempWidth + (t.getBBox().width-tempWidth)/2);\n",
        "          tempWidth = t.getBBox().width;\n",
        "        }\n",
        "        return widths;\n",
        "    };\n",
        "    var t = 10, b = h-10;\n",
        "    ew = sentence(t, e);\n",
        "    fw = sentence(b, f);\n",
        "    a.forEach(function(al) {\n",
        "        svg.appendChild(\n",
        "            svgSet(document.createElementNS(svgNS,\"path\"), {\n",
        "                \"fill\": \"none\",\n",
        "                \"stroke\": \"#ff0000\",\n",
        "                \"d\": \"M\"+ew[al[1]]+\",\"+(t + 5)+\"L\"+fw[al[0]]+\",\"+(b - 5)+\"\"\n",
        "            }));\n",
        "    });\n",
        "    </script>\n",
        "    "
       ],
       "metadata": {},
       "output_type": "pyout",
       "prompt_number": 5,
       "text": [
        "<IPython.core.display.HTML at 0x10fe2a190>"
       ]
      }
     ],
     "prompt_number": 5
    },
    {
     "cell_type": "code",
     "collapsed": false,
     "input": [
      "n = 4\n"
     ],
     "language": "python",
     "metadata": {},
     "outputs": [],
     "prompt_number": 7
    },
    {
     "cell_type": "code",
     "collapsed": false,
     "input": [],
     "language": "python",
     "metadata": {},
     "outputs": []
    }
   ],
   "metadata": {}
  }
 ]
}