{
 "metadata": {
  "name": "",
  "signature": "sha256:5681c1cde9cad890ba3b99b26fc94474a8384b1db9e0888d6da81cd72f352b87"
 },
 "nbformat": 3,
 "nbformat_minor": 0,
 "worksheets": [
  {
   "cells": [
    {
     "cell_type": "code",
     "collapsed": false,
     "input": [
      "%load_ext autoreload\n",
      "%autoreload 2"
     ],
     "language": "python",
     "metadata": {},
     "outputs": [],
     "prompt_number": 1
    },
    {
     "cell_type": "code",
     "collapsed": false,
     "input": [
      "from IPython.display import HTML\n",
      "from collections import defaultdict"
     ],
     "language": "python",
     "metadata": {},
     "outputs": [],
     "prompt_number": 2
    },
    {
     "cell_type": "markdown",
     "metadata": {},
     "source": [
      "# Pipeline\n",
      "\n",
      "**Train:** Local search for german'\n",
      "\n",
      "**Test:** Parse with some preference matrix"
     ]
    },
    {
     "cell_type": "code",
     "collapsed": false,
     "input": [
      "root = \"../project2_data/training/\"\n",
      "nlen = list(open(root+\"p2_training_symal.nlen\", 'r'))\n",
      "en = list(open(root+\"p2_training.en\", 'r'))\n",
      "nl = list(open(root+\"p2_training.nl\", 'r'))\n",
      "def tuples(s):\n",
      "    return [[int(n) for n in a.split('-')] for a in s.split()]\n",
      "def align(s):\n",
      "    al = defaultdict(list)\n",
      "    for a in tuples(s):\n",
      "        al[a[0]].append(a[1])\n",
      "    return al\n",
      "def tupal(al):\n",
      "    return [[k,v] for k,vs in al.items() for v in vs]"
     ],
     "language": "python",
     "metadata": {},
     "outputs": [],
     "prompt_number": 3
    },
    {
     "cell_type": "code",
     "collapsed": false,
     "input": [
      "from alignmentviz import alignment\n",
      "n = 4\n",
      "HTML(alignment(en[n][:-1], nl[n][:-1], tuples(nlen[n])))"
     ],
     "language": "python",
     "metadata": {},
     "outputs": [
      {
       "html": [
        "\n",
        "    <svg id=\"svg-0x22f1c155a95fc9da\" xmlns=\"http://www.w3.org/2000/svg\" xmlns:xlink=\"http://www.w3.org/1999/xlink\" width=\"100%\" height=\"50\"></svg>\n",
        "    <script type=\"text/javascript\">\n",
        "    var e = \"we must also ensure increased strictness both in issuing sea-worthiness certificates and in monitoring the condition and the maintenance of vessels .\", f = \"verder moet er een strenger beleid komen voor het afleveren van zeewaardigheidsattesten en moet er beter toezicht worden gehouden op de staat en het onderhoud van schepen .\", a = [[2, 0], [1, 1], [0, 2], [3, 4], [7, 7], [11, 8], [11, 9], [11, 10], [12, 11], [10, 12], [16, 13], [18, 13], [19, 13], [20, 14], [21, 15], [22, 16], [23, 17], [24, 18], [25, 19], [26, 20], [27, 21]];\n",
        "    var svgNS = \"http://www.w3.org/2000/svg\";\n",
        "    var svg = document.getElementById(\"svg-0x22f1c155a95fc9da\");\n",
        "    function svgSet(obj, dictionary) {\n",
        "        for (var key in dictionary) {\n",
        "            if (dictionary.hasOwnProperty(key)) {\n",
        "                obj.setAttributeNS(null,key, dictionary[key]);\n",
        "            }\n",
        "        }\n",
        "        return obj;\n",
        "    }\n",
        "    var h = 50;\n",
        "    var sentence = function(top, words) {\n",
        "        words = words.split(' ');\n",
        "        var t = svgSet(document.createElementNS(svgNS,\"text\"), {\n",
        "            \"x\": 0,\n",
        "            \"y\": top,\n",
        "            \"text-anchor\": \"start\",\n",
        "            \"style\": \"font-size:10px; font-family: Arial;\"\n",
        "        });\n",
        "        svg.appendChild(t);\n",
        "        var tempText = \"\", tempWidth = 0, widths = [];\n",
        "        for (var i=0; i<words.length; i++) {\n",
        "          t.textContent = tempText += \" \" + words[i];\n",
        "          widths.push(tempWidth + (t.getBBox().width-tempWidth)/2);\n",
        "          tempWidth = t.getBBox().width;\n",
        "        }\n",
        "        return widths;\n",
        "    };\n",
        "    var t = 10, b = h-10;\n",
        "    ew = sentence(t, e);\n",
        "    fw = sentence(b, f);\n",
        "    a.forEach(function(al) {\n",
        "        svg.appendChild(\n",
        "            svgSet(document.createElementNS(svgNS,\"path\"), {\n",
        "                \"fill\": \"none\",\n",
        "                \"stroke\": \"#ff0000\",\n",
        "                \"d\": \"M\"+ew[al[1]]+\",\"+(t + 5)+\"L\"+fw[al[0]]+\",\"+(b - 5)+\"\"\n",
        "            }));\n",
        "    });\n",
        "    </script>\n",
        "    "
       ],
       "metadata": {},
       "output_type": "pyout",
       "prompt_number": 4,
       "text": [
        "<IPython.core.display.HTML at 0x1111c3750>"
       ]
      }
     ],
     "prompt_number": 4
    },
    {
     "cell_type": "markdown",
     "metadata": {},
     "source": [
      "# Permutation neighbourhood grammar\n",
      "$$\n",
      "S \\rightarrow S_{0,n} \\\\\n",
      "S_{i,k} \\rightarrow S_{i,j} S_{j,k}\\\\\n",
      "S_{i-1,i} \\rightarrow \\pi_i\n",
      "$$\n",
      "A grammar for a large neighborhood of permutations, given one permutation $\\pi$ of length $n$. The $S_{i,k}$ rules are instantiated for each $0 \\leq i < j < k \\leq n$, and the $S_{i-1,i}$ rules for each $0 < i \\leq n$."
     ]
    },
    {
     "cell_type": "markdown",
     "metadata": {},
     "source": [
      "# Word vectors"
     ]
    },
    {
     "cell_type": "code",
     "collapsed": false,
     "input": [
      "import gensim\n",
      "corpus = [s.split() for s in nl]\n",
      "model = gensim.models.word2vec.Word2Vec(size=300, min_count=1, sg=0)\n",
      "model.build_vocab(corpus*2)\n",
      "model.train(corpus*2)"
     ],
     "language": "python",
     "metadata": {},
     "outputs": [
      {
       "metadata": {},
       "output_type": "pyout",
       "prompt_number": 5,
       "text": [
        "5347400"
       ]
      }
     ],
     "prompt_number": 5
    },
    {
     "cell_type": "heading",
     "level": 1,
     "metadata": {},
     "source": [
      "A Multi layer perceptron"
     ]
    },
    {
     "cell_type": "code",
     "collapsed": false,
     "input": [
      "from training import features\n",
      "from sent_utils import get_german_prime\n",
      "\n",
      "\n",
      "def train(word_vecs, g_primes):\n",
      "    x_train = []\n",
      "    t_train = []\n",
      "    for g_prime in g_primes:\n",
      "        for i in xrange(0, len(g_prime)):\n",
      "            for j in xrange(i+1, len(g_prime)):\n",
      "                x_train.append(features(word_vecs, g_prime, i, j))\n",
      "                t_train.append(array([1, 0]))\n",
      "                \n",
      "                x_train.append(features(word_vecs, g_prime, j, i, flip=True))\n",
      "                t_train.append(array([0, 1]))\n",
      "    return x_train, t_train\n",
      "\n",
      "gp = [get_german_prime(nl[n].split(), align(nlen[i])) for i in range(10)]\n",
      "x_train, t_train = train(model, gp)\n",
      "X, T = array(x_train), array(t_train)\n",
      "X = X.T\n",
      "T = T.T"
     ],
     "language": "python",
     "metadata": {},
     "outputs": [],
     "prompt_number": 61
    },
    {
     "cell_type": "code",
     "collapsed": false,
     "input": [
      "import numpy as np\n",
      "\n",
      "\"\"\" Initialize \"\"\"\n",
      "h = 400  # number of hidden units\n",
      "\n",
      "W = 0.2 * np.random.random_sample((2100, h)).T\n",
      "V = 0.2 * np.random.random_sample((h, 2)).T\n",
      "dW = np.zeros((2100, h)).T\n",
      "dV = np.zeros((h, 2)).T\n",
      "\n",
      "shape(X), shape(T)"
     ],
     "language": "python",
     "metadata": {},
     "outputs": [
      {
       "metadata": {},
       "output_type": "pyout",
       "prompt_number": 62,
       "text": [
        "((2100, 7560), (2, 7560))"
       ]
      }
     ],
     "prompt_number": 62
    },
    {
     "cell_type": "code",
     "collapsed": false,
     "input": [
      "figure()\n",
      "imshow(X.T[:200])\n",
      "show()"
     ],
     "language": "python",
     "metadata": {},
     "outputs": [
      {
       "metadata": {},
       "output_type": "display_data",
       "png": "[encoded data removed]",
       "text": [
        "<matplotlib.figure.Figure at 0x12cf6cfd0>"
       ]
      }
     ],
     "prompt_number": 58
    },
    {
     "cell_type": "code",
     "collapsed": false,
     "input": [
      "\"\"\" Train \"\"\"\n",
      "epsilon = 0.5 # learning rate\n",
      "mu      = 0.2 # momentum\n",
      "i = 100  # number of iterations\n",
      "batch_size = 100\n",
      "def sigma(x):\n",
      "    return 1/(1+exp(-x))\n",
      "def tau(x):\n",
      "    return sigma(x)*(1-sigma(x))\n",
      "\n",
      "def propagate(X, T):\n",
      "    global W, V, dW, dV, epsilon, mu\n",
      "    # feed forward\n",
      "    Y = sigma(W.dot(X))\n",
      "    Z = sigma(V.dot(Y))\n",
      "    D = T - Z\n",
      "    \n",
      "    # feed backward\n",
      "    Dz = tau(Z) * D\n",
      "    Dy = tau(Y) * V.T.dot(Dz)\n",
      "    \n",
      "    # update weights\n",
      "    dV = mu * dV + epsilon * Dz.dot(Y.T)\n",
      "    dW = mu * dW + epsilon * Dy.dot(X.T)\n",
      "    V += dV\n",
      "    W += dW\n",
      "    \n",
      "    epsilon *= 0.99\n",
      "    \n",
      "    return sum(np.argmax(Z, axis=0) != np.argmax(T, axis=0))\n",
      "\n",
      "indexes = numpy.arange(X.shape[1])\n",
      "errors = []\n",
      "for j in range(i):\n",
      "    # make batch indexes\n",
      "    numpy.random.shuffle(indexes)\n",
      "    batch = indexes[:batch_size]\n",
      "    # train one interation\n",
      "    errors.append(propagate(X[:,batch], T[:,batch]))"
     ],
     "language": "python",
     "metadata": {},
     "outputs": [],
     "prompt_number": 63
    },
    {
     "cell_type": "code",
     "collapsed": false,
     "input": [
      "plot(range(i), errors)"
     ],
     "language": "python",
     "metadata": {},
     "outputs": [
      {
       "metadata": {},
       "output_type": "pyout",
       "prompt_number": 64,
       "text": [
        "[<matplotlib.lines.Line2D at 0x13f60e310>]"
       ]
      },
      {
       "metadata": {},
       "output_type": "display_data",
       "png": "[encoded data removed]",
       "text": [
        "<matplotlib.figure.Figure at 0x12cde3b50>"
       ]
      }
     ],
     "prompt_number": 64
    },
    {
     "cell_type": "code",
     "collapsed": false,
     "input": [],
     "language": "python",
     "metadata": {},
     "outputs": []
    }
   ],
   "metadata": {}
  }
 ]
}